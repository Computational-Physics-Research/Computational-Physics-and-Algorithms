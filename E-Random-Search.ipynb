{
 "cells": [
  {
   "cell_type": "markdown",
   "metadata": {},
   "source": [
    "# e (mathematical constant)\n",
    "The number e is a mathematical constant approximately equal to 2.71828\n",
    "<br>\n",
    "<img src=\"https://upload.wikimedia.org/wikipedia/commons/e/e8/Hyperbola_E.svg\" alt=\"drawing\" width=\"250\"/>\n",
    "\n",
    "<br>\n",
    "$ \\int_1^e \\frac{1}{x}\\;\\mathrm{d}x= 1 $\n",
    "\n",
    "[wikipedia](https://en.wikipedia.org/wiki/E_(mathematical_constant))"
   ]
  },
  {
   "cell_type": "code",
   "execution_count": 1,
   "metadata": {},
   "outputs": [],
   "source": [
    "import numpy as np\n",
    "import random as rd"
   ]
  },
  {
   "cell_type": "code",
   "execution_count": 2,
   "metadata": {},
   "outputs": [],
   "source": [
    "def Fx(x):\n",
    "    return 1/x\n",
    "#integral calculation using MC\n",
    "def MC(xmin,xmax,N):\n",
    "    n_hits = 0\n",
    "    for i in range(N):\n",
    "        x, y = rd.uniform(xmin, xmax), rd.uniform(0.0, Fx(xmin))\n",
    "        if y<Fx(x):\n",
    "            n_hits += 1\n",
    "    return n_hits\n",
    "\n",
    "def CalcInt(xmax):\n",
    "    xmin=1.0\n",
    "    N=1000\n",
    "    return (MC(xmin,xmax,N)/N)*(xmax-xmin)*Fx(xmin)\n",
    "\n",
    "def ensCalc(xmax,NN):\n",
    "    s=0.0\n",
    "    for i in range(NN):\n",
    "        s+=CalcInt(xmax)\n",
    "    return s/NN"
   ]
  },
  {
   "cell_type": "code",
   "execution_count": 3,
   "metadata": {},
   "outputs": [
    {
     "data": {
      "text/plain": [
       "0.0005555087117021795"
      ]
     },
     "execution_count": 3,
     "metadata": {},
     "output_type": "execute_result"
    }
   ],
   "source": [
    "np.abs(1-ensCalc(np.e,100))"
   ]
  },
  {
   "cell_type": "code",
   "execution_count": 4,
   "metadata": {},
   "outputs": [],
   "source": [
    "def f(x):\n",
    "    s=ensCalc(x,100)\n",
    "    return (s-1)\n",
    "\n",
    "def rs(x1,x2,ds):\n",
    "    if f(x1)>0.0 or f(x2)<0.0:\n",
    "        print('choose a beter region')\n",
    "    else:\n",
    "        r=rd.uniform(x1,x2)\n",
    "        fit=np.abs(f(r))\n",
    "        while fit>ds:\n",
    "            r=rd.uniform(x1,x2)\n",
    "            fit=np.abs(f(r))\n",
    "        print(r)"
   ]
  },
  {
   "cell_type": "code",
   "execution_count": 6,
   "metadata": {},
   "outputs": [
    {
     "name": "stdout",
     "output_type": "stream",
     "text": [
      "2.7265332064334364\n"
     ]
    }
   ],
   "source": [
    "rs(2,np.e+0.5,0.010)"
   ]
  }
 ],
 "metadata": {
  "kernelspec": {
   "display_name": "Python 3",
   "language": "python",
   "name": "python3"
  },
  "language_info": {
   "codemirror_mode": {
    "name": "ipython",
    "version": 3
   },
   "file_extension": ".py",
   "mimetype": "text/x-python",
   "name": "python",
   "nbconvert_exporter": "python",
   "pygments_lexer": "ipython3",
   "version": "3.6.7"
  }
 },
 "nbformat": 4,
 "nbformat_minor": 2
}
