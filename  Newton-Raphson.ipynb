{
 "cells": [
  {
   "cell_type": "code",
   "execution_count": 1,
   "metadata": {},
   "outputs": [],
   "source": [
    "import matplotlib.pyplot as plt\n",
    "import numpy as np"
   ]
  },
  {
   "cell_type": "code",
   "execution_count": 2,
   "metadata": {},
   "outputs": [
    {
     "name": "stdout",
     "output_type": "stream",
     "text": [
      "k\t x0\t\t function(x0)\n",
      "x1\t1.438235e+00\t6.852076e-02\n",
      "x2\t1.414414e+00\t5.674459e-04\n",
      "x3\t1.414214e+00\t4.023794e-08\n",
      "x4\t1.414214e+00\t4.440892e-16\n",
      "The approximate value of x is: 1.4142135623730951\n"
     ]
    },
    {
     "data": {
      "image/png": "[encoded data removed]",
      "text/plain": [
       "<Figure size 432x288 with 1 Axes>"
      ]
     },
     "metadata": {
      "needs_background": "light"
     },
     "output_type": "display_data"
    }
   ],
   "source": [
    "def function(x):\n",
    "    value = x**2-2\n",
    "    return value\n",
    "\n",
    "def derivative(x):\n",
    "    return 2*x\n",
    "\n",
    "def newton(function, derivative, x0, tol, max_iter=100):\n",
    "    x1 = 0\n",
    "    if abs(x0-x1)<= tol and abs((x0-x1)/x0)<= tol:\n",
    "        return x0\n",
    "    print(\"k\\t x0\\t\\t function(x0)\")\n",
    "    k = 1\n",
    "    while k <= max_iter:\n",
    "        x1 = x0 - (function(x0)/derivative(x0))\n",
    "        print(\"x%d\\t%e\\t%e\"%(k,x1,function(x1)))\n",
    "\n",
    "        if abs(x0-x1)<= tol and abs((x0-x1)/x0)<= tol:\n",
    "            plt.plot(x0, function(x0), 'or')\n",
    "            return x1\n",
    "\n",
    "        x0 = x1\n",
    "        k = k + 1\n",
    "        plt.plot(x0, function(x0), 'or')\n",
    "\n",
    "        if k > max_iter:\n",
    "            print(\"ERROR: Exceeded max number of iterations\")\n",
    "\n",
    "    return x1  # Returns the value\n",
    "\n",
    "sqrt = newton(function, derivative, 1.7, 0.0000001)\n",
    "print(\"The approximate value of x is: \"+str(sqrt))\n",
    "\n",
    "# Plotting configuration\n",
    "u = np.arange(1.0, 2.0, 0.0001) # Setting up values for x in the plot\n",
    "w = u**2 - 2 # Define the main function again\n",
    "\n",
    "plt.plot(u, w)\n",
    "plt.axhline(y=0.0, color='black', linestyle='-')\n",
    "plt.title('Newton-Raphson Graphics for' + ' y = x^2 - 2')\n",
    "plt.xlabel('X')\n",
    "plt.ylabel('Y')\n",
    "plt.grid(True)\n",
    "plt.legend(['Xn'], loc='upper left')\n",
    "plt.show()"
   ]
  },
  {
   "cell_type": "code",
   "execution_count": null,
   "metadata": {},
   "outputs": [],
   "source": []
  }
 ],
 "metadata": {
  "kernelspec": {
   "display_name": "Python 3",
   "language": "python",
   "name": "python3"
  },
  "language_info": {
   "codemirror_mode": {
    "name": "ipython",
    "version": 3
   },
   "file_extension": ".py",
   "mimetype": "text/x-python",
   "name": "python",
   "nbconvert_exporter": "python",
   "pygments_lexer": "ipython3",
   "version": "3.7.0"
  }
 },
 "nbformat": 4,
 "nbformat_minor": 4
}
