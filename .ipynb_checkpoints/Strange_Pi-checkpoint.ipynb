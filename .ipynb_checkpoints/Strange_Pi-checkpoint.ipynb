{
 "cells": [
  {
   "cell_type": "markdown",
   "metadata": {},
   "source": [
    "# A Problem in Probability\n",
    "\n",
    "* Suppose we have a floor made of parallel strips of wood, each the same width, and we drop a needle onto the floor. What is the probability that the needle will lie across a line between two strips? ()"
   ]
  },
  {
   "cell_type": "code",
   "execution_count": 1,
   "metadata": {},
   "outputs": [],
   "source": [
    "import numpy as np #some mathematical and numerical tools\n",
    "import matplotlib.pyplot as pl #ploting tools\n",
    "import random as rd #random number generator"
   ]
  },
  {
   "cell_type": "code",
   "execution_count": 2,
   "metadata": {},
   "outputs": [
    {
     "data": {
      "image/png": "[encoded data removed]",
      "text/plain": [
       "<Figure size 432x288 with 1 Axes>"
      ]
     },
     "metadata": {
      "needs_background": "light"
     },
     "output_type": "display_data"
    }
   ],
   "source": [
    "x=np.linspace(0,4,100)\n",
    "y=np.zeros(100)\n",
    "pl.plot(x,y,color='blue')\n",
    "pl.plot(x,y+0.5,linestyle=\"--\",color='black')\n",
    "pl.plot(x,y+1,color='blue')\n",
    "pl.plot(x,y+2,color='blue')\n",
    "pl.plot(x,y+3,color='blue')\n",
    "pl.plot(x,y+3,linestyle=\"--\",color='black')\n",
    "pl.plot(x,y+4,color='blue')\n",
    "pl.show()"
   ]
  },
  {
   "cell_type": "markdown",
   "metadata": {},
   "source": [
    "Now, in a particular case we suppose that the needle length l is equal to the width t of the strips."
   ]
  },
  {
   "cell_type": "code",
   "execution_count": 13,
   "metadata": {},
   "outputs": [],
   "source": [
    "def needle(y_min,y_max):\n",
    "    y = rd.uniform(y_min, y_max)\n",
    "    theta= rd.uniform(0.0,np.pi/2)\n",
    "    return [y,theta]\n",
    "\n",
    "def check(args,l):\n",
    "    y=args[0]\n",
    "    theta=args[1]\n",
    "    y1=y+(l/2)*np.sin(theta)\n",
    "    y2=y-(l/2)*np.sin(theta)\n",
    "    state=False\n",
    "    if (y1 >round(y) and y2<round(y)):\n",
    "        state=True\n",
    "    return state\n",
    "\n",
    "def run(N,l,ymin,ymax):\n",
    "    n_hits = 0\n",
    "    for i in range(N):\n",
    "        yt=needle(ymin,ymax)\n",
    "        if check(yt,l)==True:\n",
    "            n_hits += 1\n",
    "    return n_hits"
   ]
  },
  {
   "cell_type": "code",
   "execution_count": 14,
   "metadata": {},
   "outputs": [
    {
     "name": "stdout",
     "output_type": "stream",
     "text": [
      "0.63782\n"
     ]
    }
   ],
   "source": [
    "N=100000\n",
    "nh=run(N,1,0.5,3.0)\n",
    "print(nh/N)"
   ]
  },
  {
   "cell_type": "code",
   "execution_count": 15,
   "metadata": {},
   "outputs": [],
   "source": [
    "def Ens(N1,N2,l,ymin,ymax):\n",
    "    result=0\n",
    "    for i in range(N1):\n",
    "        result=result+(run(N2,1,ymin,ymax)/N2)\n",
    "    return result/N1"
   ]
  },
  {
   "cell_type": "code",
   "execution_count": 16,
   "metadata": {},
   "outputs": [
    {
     "data": {
      "text/plain": [
       "0.6364860000000001"
      ]
     },
     "execution_count": 16,
     "metadata": {},
     "output_type": "execute_result"
    }
   ],
   "source": [
    "Ens(100,5000,1,0.5,3.0)"
   ]
  },
  {
   "cell_type": "markdown",
   "metadata": {},
   "source": [
    "## Buffon's needle problem\n",
    "\n",
    "In mathematics, Buffon's needle problem is a question first posed in the 18th century by Georges-Louis Leclerc, Comte de Buffon:\n",
    "\n",
    "    Suppose we have a floor made of parallel strips of wood, each the same width, and we drop a needle onto the floor. What is the probability that the needle will lie across a line between two strips?\n",
    "\n",
    "Buffon's needle was the earliest problem in geometric probability to be solved; it can be solved using integral geometry. The solution for the sought probability p, in the case where the needle length l is not greater than the width t of the strips, is\n",
    "\n",
    "$p=\\frac{2}{\\pi} \\frac{l}{t}$\n",
    "\n",
    "[from wikipedia](https://en.wikipedia.org/wiki/Buffon%27s_needle_problem)"
   ]
  },
  {
   "cell_type": "code",
   "execution_count": 23,
   "metadata": {},
   "outputs": [
    {
     "data": {
      "image/png": "[encoded data removed]",
      "text/plain": [
       "<Figure size 432x288 with 1 Axes>"
      ]
     },
     "metadata": {
      "needs_background": "light"
     },
     "output_type": "display_data"
    }
   ],
   "source": [
    "x=np.linspace(0,2,100)\n",
    "y=np.zeros(100)\n",
    "pl.plot(x,y,color='white')\n",
    "pl.plot(x,y+0.5,linestyle=\"--\",color='black')\n",
    "pl.plot(x,y+1,color='blue')\n",
    "pl.plot(x,y+2,color='blue')\n",
    "pl.plot(x,y+3,color='blue')\n",
    "pl.plot(x,y+3.5,linestyle=\"--\",color='black')\n",
    "pl.plot(x,y+4,color='white')\n",
    "pl.show()"
   ]
  },
  {
   "cell_type": "code",
   "execution_count": 217,
   "metadata": {},
   "outputs": [
    {
     "data": {
      "text/plain": [
       "2"
      ]
     },
     "execution_count": 217,
     "metadata": {},
     "output_type": "execute_result"
    }
   ],
   "source": []
  },
  {
   "cell_type": "code",
   "execution_count": null,
   "metadata": {},
   "outputs": [],
   "source": []
  }
 ],
 "metadata": {
  "kernelspec": {
   "display_name": "Python 3",
   "language": "python",
   "name": "python3"
  },
  "language_info": {
   "codemirror_mode": {
    "name": "ipython",
    "version": 3
   },
   "file_extension": ".py",
   "mimetype": "text/x-python",
   "name": "python",
   "nbconvert_exporter": "python",
   "pygments_lexer": "ipython3",
   "version": "3.6.7"
  }
 },
 "nbformat": 4,
 "nbformat_minor": 2
}
